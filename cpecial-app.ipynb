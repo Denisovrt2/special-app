{
 "cells": [
  {
   "cell_type": "code",
   "execution_count": null,
   "id": "aeea61df-2817-4857-ac20-30f971fb3d03",
   "metadata": {},
   "outputs": [],
   "source": [
    "n = int(input())\n",
    "\n",
    "set_dict = {}\n",
    "for i in range(n):\n",
    "    words = input().lower().split(':')\n",
    "    set_dict[words[0]] = words[1]\n",
    "\n",
    "\n",
    "\n",
    "\n",
    "words2 = {}\n",
    "for i in range(int(input())):\n",
    "    word = input().lower()\n",
    "    words2[word] = ' '\n",
    "\n",
    "\n",
    "for i in words2:\n",
    "    for key in set_dict:\n",
    "        if i == key:\n",
    "            print(set_dict[key].strip(' '))\n",
    "    else:\n",
    "        print('Не найдено')"
   ]
  }
 ],
 "metadata": {
  "kernelspec": {
   "display_name": "Python 3 (ipykernel)",
   "language": "python",
   "name": "python3"
  },
  "language_info": {
   "codemirror_mode": {
    "name": "ipython",
    "version": 3
   },
   "file_extension": ".py",
   "mimetype": "text/x-python",
   "name": "python",
   "nbconvert_exporter": "python",
   "pygments_lexer": "ipython3",
   "version": "3.9.13"
  }
 },
 "nbformat": 4,
 "nbformat_minor": 5
}
